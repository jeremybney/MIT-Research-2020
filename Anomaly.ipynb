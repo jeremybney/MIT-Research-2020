{
 "cells": [
  {
   "cell_type": "code",
   "execution_count": 2,
   "metadata": {},
   "outputs": [
    {
     "name": "stderr",
     "output_type": "stream",
     "text": [
      "/Users/jeremyney/anaconda3/lib/python3.7/site-packages/tensorflow/python/framework/dtypes.py:526: FutureWarning: Passing (type, 1) or '1type' as a synonym of type is deprecated; in a future version of numpy, it will be understood as (type, (1,)) / '(1,)type'.\n",
      "  _np_qint8 = np.dtype([(\"qint8\", np.int8, 1)])\n",
      "/Users/jeremyney/anaconda3/lib/python3.7/site-packages/tensorflow/python/framework/dtypes.py:527: FutureWarning: Passing (type, 1) or '1type' as a synonym of type is deprecated; in a future version of numpy, it will be understood as (type, (1,)) / '(1,)type'.\n",
      "  _np_quint8 = np.dtype([(\"quint8\", np.uint8, 1)])\n",
      "/Users/jeremyney/anaconda3/lib/python3.7/site-packages/tensorflow/python/framework/dtypes.py:528: FutureWarning: Passing (type, 1) or '1type' as a synonym of type is deprecated; in a future version of numpy, it will be understood as (type, (1,)) / '(1,)type'.\n",
      "  _np_qint16 = np.dtype([(\"qint16\", np.int16, 1)])\n",
      "/Users/jeremyney/anaconda3/lib/python3.7/site-packages/tensorflow/python/framework/dtypes.py:529: FutureWarning: Passing (type, 1) or '1type' as a synonym of type is deprecated; in a future version of numpy, it will be understood as (type, (1,)) / '(1,)type'.\n",
      "  _np_quint16 = np.dtype([(\"quint16\", np.uint16, 1)])\n",
      "/Users/jeremyney/anaconda3/lib/python3.7/site-packages/tensorflow/python/framework/dtypes.py:530: FutureWarning: Passing (type, 1) or '1type' as a synonym of type is deprecated; in a future version of numpy, it will be understood as (type, (1,)) / '(1,)type'.\n",
      "  _np_qint32 = np.dtype([(\"qint32\", np.int32, 1)])\n",
      "/Users/jeremyney/anaconda3/lib/python3.7/site-packages/tensorflow/python/framework/dtypes.py:535: FutureWarning: Passing (type, 1) or '1type' as a synonym of type is deprecated; in a future version of numpy, it will be understood as (type, (1,)) / '(1,)type'.\n",
      "  np_resource = np.dtype([(\"resource\", np.ubyte, 1)])\n",
      "Using TensorFlow backend.\n"
     ]
    }
   ],
   "source": [
    "#https://www.kaggle.com/boltzmannbrain/nab#Twitter_volume_IBM.csv\n",
    "#https://towardsdatascience.com/machine-learning-for-anomaly-detection-and-condition-monitoring-d4614e7de770\n",
    "#https://github.com/infusedIdeas/ai_software_dev/blob/master/AI/Anomaly%20Detection%20and%20AutoEncoders/Bearing%20Failure%20Anomaly%20Detection%20-%20Dense.ipynb\n",
    "import os\n",
    "import pandas as pd\n",
    "import numpy as np\n",
    "from sklearn import preprocessing\n",
    "import seaborn as sns\n",
    "sns.set(color_codes=True)\n",
    "import matplotlib.pyplot as plt\n",
    "%matplotlib inline\n",
    "\n",
    "from numpy.random import seed\n",
    "from tensorflow import set_random_seed\n",
    "\n",
    "from keras.layers import Input, Dropout\n",
    "from keras.layers.core import Dense \n",
    "from keras.models import Model, Sequential, load_model\n",
    "from keras import regularizers\n",
    "from keras.models import model_from_json\n",
    "\n",
    "from random import seed\n",
    "from random import randrange"
   ]
  },
  {
   "cell_type": "code",
   "execution_count": 3,
   "metadata": {},
   "outputs": [
    {
     "data": {
      "text/html": [
       "<div>\n",
       "<style scoped>\n",
       "    .dataframe tbody tr th:only-of-type {\n",
       "        vertical-align: middle;\n",
       "    }\n",
       "\n",
       "    .dataframe tbody tr th {\n",
       "        vertical-align: top;\n",
       "    }\n",
       "\n",
       "    .dataframe thead th {\n",
       "        text-align: right;\n",
       "    }\n",
       "</style>\n",
       "<table border=\"1\" class=\"dataframe\">\n",
       "  <thead>\n",
       "    <tr style=\"text-align: right;\">\n",
       "      <th></th>\n",
       "      <th>fb</th>\n",
       "      <th>goog</th>\n",
       "      <th>amzn</th>\n",
       "    </tr>\n",
       "  </thead>\n",
       "  <tbody>\n",
       "    <tr>\n",
       "      <th>2015-02-26 21:42:00</th>\n",
       "      <td>53.0</td>\n",
       "      <td>35</td>\n",
       "      <td>57.0</td>\n",
       "    </tr>\n",
       "    <tr>\n",
       "      <th>2015-02-26 21:47:00</th>\n",
       "      <td>64.0</td>\n",
       "      <td>41</td>\n",
       "      <td>43.0</td>\n",
       "    </tr>\n",
       "    <tr>\n",
       "      <th>2015-02-26 21:52:00</th>\n",
       "      <td>49.0</td>\n",
       "      <td>32</td>\n",
       "      <td>55.0</td>\n",
       "    </tr>\n",
       "    <tr>\n",
       "      <th>2015-02-26 21:57:00</th>\n",
       "      <td>48.0</td>\n",
       "      <td>36</td>\n",
       "      <td>64.0</td>\n",
       "    </tr>\n",
       "    <tr>\n",
       "      <th>2015-02-26 22:02:00</th>\n",
       "      <td>22.0</td>\n",
       "      <td>32</td>\n",
       "      <td>93.0</td>\n",
       "    </tr>\n",
       "  </tbody>\n",
       "</table>\n",
       "</div>"
      ],
      "text/plain": [
       "                       fb  goog  amzn\n",
       "2015-02-26 21:42:00  53.0    35  57.0\n",
       "2015-02-26 21:47:00  64.0    41  43.0\n",
       "2015-02-26 21:52:00  49.0    32  55.0\n",
       "2015-02-26 21:57:00  48.0    36  64.0\n",
       "2015-02-26 22:02:00  22.0    32  93.0"
      ]
     },
     "execution_count": 3,
     "metadata": {},
     "output_type": "execute_result"
    }
   ],
   "source": [
    "merged_data = pd.read_csv('Twitter_volume_FB.csv', index_col = 0)\n",
    "merged_data.index = pd.to_datetime(merged_data.index)\n",
    "merged_data.fillna(merged_data.mean(), inplace=True)\n",
    "merged_data = pd.DataFrame(merged_data)\n",
    "merged_data.head()"
   ]
  },
  {
   "cell_type": "code",
   "execution_count": 4,
   "metadata": {},
   "outputs": [],
   "source": [
    "msk = np.random.rand(len(merged_data)) < 0.8"
   ]
  },
  {
   "cell_type": "code",
   "execution_count": 6,
   "metadata": {},
   "outputs": [
    {
     "name": "stdout",
     "output_type": "stream",
     "text": [
      "Training dataset shape: (12760, 3)\n",
      "Test dataset shape: (3082, 3)\n"
     ]
    }
   ],
   "source": [
    "dataset_train = merged_data[msk]\n",
    "dataset_test = merged_data[~msk]\n",
    "print(\"Training dataset shape:\", dataset_train.shape)\n",
    "print(\"Test dataset shape:\", dataset_test.shape)"
   ]
  },
  {
   "cell_type": "code",
   "execution_count": 7,
   "metadata": {},
   "outputs": [
    {
     "data": {
      "text/plain": [
       "<matplotlib.axes._subplots.AxesSubplot at 0x10ab1c710>"
      ]
     },
     "execution_count": 7,
     "metadata": {},
     "output_type": "execute_result"
    },
    {
     "data": {
      "image/png": "[encoded data removed]",
      "text/plain": [
       "<Figure size 864x432 with 1 Axes>"
      ]
     },
     "metadata": {
      "needs_background": "light"
     },
     "output_type": "display_data"
    }
   ],
   "source": [
    "dataset_train.plot(figsize = (12,6))"
   ]
  },
  {
   "cell_type": "code",
   "execution_count": 8,
   "metadata": {},
   "outputs": [],
   "source": [
    "scaler = preprocessing.MinMaxScaler()\n",
    "\n",
    "X_train = pd.DataFrame(scaler.fit_transform(dataset_train), \n",
    "                              columns=dataset_train.columns, \n",
    "                              index=dataset_train.index)\n",
    "# Random shuffle training data\n",
    "X_train.sample(frac=1)\n",
    "\n",
    "X_test = pd.DataFrame(scaler.transform(dataset_test), \n",
    "                             columns=dataset_test.columns, \n",
    "                             index=dataset_test.index)"
   ]
  },
  {
   "cell_type": "code",
   "execution_count": 17,
   "metadata": {},
   "outputs": [],
   "source": [
    "seed(10)\n",
    "set_random_seed(10)\n",
    "act_func = 'elu'\n",
    "\n",
    "# Input layer:\n",
    "model=Sequential()\n",
    "# First hidden layer, connected to input vector X. \n",
    "model.add(Dense(10,activation=act_func,\n",
    "                kernel_initializer='glorot_uniform',\n",
    "                kernel_regularizer=regularizers.l2(0.0),\n",
    "                input_shape=(X_train.shape[1],)\n",
    "               )\n",
    "         )\n",
    "\n",
    "model.add(Dense(2,activation=act_func,\n",
    "                kernel_initializer='glorot_uniform'))\n",
    "\n",
    "model.add(Dense(10,activation=act_func,\n",
    "                kernel_initializer='glorot_uniform'))\n",
    "\n",
    "model.add(Dense(X_train.shape[1],\n",
    "                kernel_initializer='glorot_uniform'))\n",
    "\n",
    "model.compile(loss='mse',optimizer='adam')\n",
    "\n",
    "# Train model for 100 epochs, batch size of 10: \n",
    "NUM_EPOCHS=100\n",
    "BATCH_SIZE=10"
   ]
  },
  {
   "cell_type": "code",
   "execution_count": 18,
   "metadata": {},
   "outputs": [
    {
     "name": "stdout",
     "output_type": "stream",
     "text": [
      "Train on 12122 samples, validate on 638 samples\n",
      "Epoch 1/100\n",
      "12122/12122 [==============================] - 1s 118us/step - loss: 1.7647e-04 - val_loss: 1.3254e-04\n",
      "Epoch 2/100\n",
      "12122/12122 [==============================] - 1s 106us/step - loss: 9.3606e-05 - val_loss: 1.3346e-04\n",
      "Epoch 3/100\n",
      "12122/12122 [==============================] - 1s 101us/step - loss: 8.8620e-05 - val_loss: 1.2055e-04\n",
      "Epoch 4/100\n",
      "12122/12122 [==============================] - 1s 102us/step - loss: 8.4514e-05 - val_loss: 1.2862e-04\n",
      "Epoch 5/100\n",
      "12122/12122 [==============================] - 1s 102us/step - loss: 8.2776e-05 - val_loss: 1.1873e-04\n",
      "Epoch 6/100\n",
      "12122/12122 [==============================] - 1s 112us/step - loss: 8.0963e-05 - val_loss: 1.2086e-04\n",
      "Epoch 7/100\n",
      "12122/12122 [==============================] - 1s 104us/step - loss: 8.0272e-05 - val_loss: 1.2371e-04\n",
      "Epoch 8/100\n",
      "12122/12122 [==============================] - 1s 99us/step - loss: 8.0115e-05 - val_loss: 1.2000e-04\n",
      "Epoch 9/100\n",
      "12122/12122 [==============================] - 1s 101us/step - loss: 8.0131e-05 - val_loss: 1.3927e-04\n",
      "Epoch 10/100\n",
      "12122/12122 [==============================] - 1s 100us/step - loss: 8.0200e-05 - val_loss: 1.2929e-04\n",
      "Epoch 11/100\n",
      "12122/12122 [==============================] - 1s 102us/step - loss: 7.8055e-05 - val_loss: 1.2774e-04\n",
      "Epoch 12/100\n",
      "12122/12122 [==============================] - 1s 101us/step - loss: 7.7980e-05 - val_loss: 1.2192e-04\n",
      "Epoch 13/100\n",
      "12122/12122 [==============================] - 1s 103us/step - loss: 7.7733e-05 - val_loss: 1.2061e-04\n",
      "Epoch 14/100\n",
      "12122/12122 [==============================] - 1s 102us/step - loss: 7.7207e-05 - val_loss: 1.1945e-04\n",
      "Epoch 15/100\n",
      "12122/12122 [==============================] - 1s 102us/step - loss: 7.7372e-05 - val_loss: 1.3589e-04\n",
      "Epoch 16/100\n",
      "12122/12122 [==============================] - 1s 101us/step - loss: 7.7155e-05 - val_loss: 1.2189e-04\n",
      "Epoch 17/100\n",
      "12122/12122 [==============================] - 1s 102us/step - loss: 7.6622e-05 - val_loss: 1.2259e-04\n",
      "Epoch 18/100\n",
      "12122/12122 [==============================] - 1s 103us/step - loss: 7.5982e-05 - val_loss: 1.3153e-04\n",
      "Epoch 19/100\n",
      "12122/12122 [==============================] - 1s 100us/step - loss: 7.6027e-05 - val_loss: 1.2236e-04\n",
      "Epoch 20/100\n",
      "12122/12122 [==============================] - 1s 101us/step - loss: 7.6590e-05 - val_loss: 1.2827e-04\n",
      "Epoch 21/100\n",
      "12122/12122 [==============================] - 1s 101us/step - loss: 7.6006e-05 - val_loss: 1.2790e-04\n",
      "Epoch 22/100\n",
      "12122/12122 [==============================] - 1s 105us/step - loss: 7.4823e-05 - val_loss: 1.2991e-04\n",
      "Epoch 23/100\n",
      "12122/12122 [==============================] - 1s 101us/step - loss: 7.5103e-05 - val_loss: 1.3635e-04\n",
      "Epoch 24/100\n",
      "12122/12122 [==============================] - 1s 110us/step - loss: 7.6027e-05 - val_loss: 1.3350e-04\n",
      "Epoch 25/100\n",
      "12122/12122 [==============================] - 1s 102us/step - loss: 7.6194e-05 - val_loss: 1.3071e-04\n",
      "Epoch 26/100\n",
      "12122/12122 [==============================] - 1s 103us/step - loss: 7.4869e-05 - val_loss: 1.2044e-04\n",
      "Epoch 27/100\n",
      "12122/12122 [==============================] - 1s 102us/step - loss: 7.6186e-05 - val_loss: 1.3501e-04\n",
      "Epoch 28/100\n",
      "12122/12122 [==============================] - 1s 103us/step - loss: 7.3614e-05 - val_loss: 1.3984e-04\n",
      "Epoch 29/100\n",
      "12122/12122 [==============================] - 1s 104us/step - loss: 7.4751e-05 - val_loss: 1.2032e-04\n",
      "Epoch 30/100\n",
      "12122/12122 [==============================] - 1s 103us/step - loss: 7.3803e-05 - val_loss: 1.2171e-04\n",
      "Epoch 31/100\n",
      "12122/12122 [==============================] - 1s 101us/step - loss: 7.5604e-05 - val_loss: 1.1699e-04\n",
      "Epoch 32/100\n",
      "12122/12122 [==============================] - 1s 102us/step - loss: 7.3534e-05 - val_loss: 1.3169e-04\n",
      "Epoch 33/100\n",
      "12122/12122 [==============================] - 1s 104us/step - loss: 7.4181e-05 - val_loss: 1.2185e-04\n",
      "Epoch 34/100\n",
      "12122/12122 [==============================] - 1s 102us/step - loss: 7.4106e-05 - val_loss: 1.2284e-04\n",
      "Epoch 35/100\n",
      "12122/12122 [==============================] - 1s 105us/step - loss: 7.3866e-05 - val_loss: 1.1954e-04\n",
      "Epoch 36/100\n",
      "12122/12122 [==============================] - 1s 105us/step - loss: 7.3777e-05 - val_loss: 1.2437e-04\n",
      "Epoch 37/100\n",
      "12122/12122 [==============================] - 1s 103us/step - loss: 7.3934e-05 - val_loss: 1.2088e-04\n",
      "Epoch 38/100\n",
      "12122/12122 [==============================] - 1s 104us/step - loss: 7.3571e-05 - val_loss: 1.2786e-04\n",
      "Epoch 39/100\n",
      "12122/12122 [==============================] - 1s 105us/step - loss: 7.3574e-05 - val_loss: 1.1710e-04\n",
      "Epoch 40/100\n",
      "12122/12122 [==============================] - 1s 102us/step - loss: 7.3972e-05 - val_loss: 1.3468e-04\n",
      "Epoch 41/100\n",
      "12122/12122 [==============================] - 1s 104us/step - loss: 7.3576e-05 - val_loss: 1.2657e-04\n",
      "Epoch 42/100\n",
      "12122/12122 [==============================] - 1s 101us/step - loss: 7.3653e-05 - val_loss: 1.2445e-04\n",
      "Epoch 43/100\n",
      "12122/12122 [==============================] - 1s 104us/step - loss: 7.2661e-05 - val_loss: 1.1712e-04\n",
      "Epoch 44/100\n",
      "12122/12122 [==============================] - 1s 100us/step - loss: 7.3396e-05 - val_loss: 1.1678e-04\n",
      "Epoch 45/100\n",
      "12122/12122 [==============================] - 1s 103us/step - loss: 7.2928e-05 - val_loss: 1.2732e-04\n",
      "Epoch 46/100\n",
      "12122/12122 [==============================] - 1s 103us/step - loss: 7.2856e-05 - val_loss: 1.3338e-04\n",
      "Epoch 47/100\n",
      "12122/12122 [==============================] - 1s 102us/step - loss: 7.3861e-05 - val_loss: 1.3257e-04\n",
      "Epoch 48/100\n",
      "12122/12122 [==============================] - 1s 104us/step - loss: 7.2736e-05 - val_loss: 1.6751e-04\n",
      "Epoch 49/100\n",
      "12122/12122 [==============================] - 1s 104us/step - loss: 7.8775e-05 - val_loss: 1.1265e-04\n",
      "Epoch 50/100\n",
      "12122/12122 [==============================] - 1s 104us/step - loss: 7.3221e-05 - val_loss: 1.1896e-04\n",
      "Epoch 51/100\n",
      "12122/12122 [==============================] - 1s 115us/step - loss: 7.3268e-05 - val_loss: 1.2601e-04\n",
      "Epoch 52/100\n",
      "12122/12122 [==============================] - 2s 126us/step - loss: 7.2349e-05 - val_loss: 1.1765e-04\n",
      "Epoch 53/100\n",
      "12122/12122 [==============================] - 1s 116us/step - loss: 7.3378e-05 - val_loss: 1.2488e-04\n",
      "Epoch 54/100\n",
      "12122/12122 [==============================] - 1s 117us/step - loss: 7.2406e-05 - val_loss: 1.1962e-04\n",
      "Epoch 55/100\n",
      "12122/12122 [==============================] - 1s 99us/step - loss: 7.2509e-05 - val_loss: 1.2380e-04\n",
      "Epoch 56/100\n",
      "12122/12122 [==============================] - 1s 102us/step - loss: 7.2797e-05 - val_loss: 1.2009e-04\n",
      "Epoch 57/100\n",
      "12122/12122 [==============================] - 1s 103us/step - loss: 7.2410e-05 - val_loss: 1.2965e-04\n",
      "Epoch 58/100\n",
      "12122/12122 [==============================] - 1s 103us/step - loss: 7.2578e-05 - val_loss: 1.4098e-04\n",
      "Epoch 59/100\n",
      "12122/12122 [==============================] - 1s 102us/step - loss: 7.2765e-05 - val_loss: 1.1736e-04\n",
      "Epoch 60/100\n",
      "12122/12122 [==============================] - 1s 102us/step - loss: 7.2878e-05 - val_loss: 1.2602e-04\n",
      "Epoch 61/100\n",
      "12122/12122 [==============================] - 1s 101us/step - loss: 7.2215e-05 - val_loss: 1.1682e-04\n",
      "Epoch 62/100\n",
      "12122/12122 [==============================] - 1s 109us/step - loss: 7.1796e-05 - val_loss: 1.1964e-04\n",
      "Epoch 63/100\n",
      "12122/12122 [==============================] - 1s 105us/step - loss: 7.3073e-05 - val_loss: 1.1864e-04\n",
      "Epoch 64/100\n",
      "12122/12122 [==============================] - 1s 105us/step - loss: 7.2176e-05 - val_loss: 1.2148e-04\n",
      "Epoch 65/100\n",
      "12122/12122 [==============================] - 1s 105us/step - loss: 7.1998e-05 - val_loss: 1.2026e-04\n",
      "Epoch 66/100\n",
      "12122/12122 [==============================] - 1s 105us/step - loss: 7.2207e-05 - val_loss: 1.2375e-04\n",
      "Epoch 67/100\n",
      "12122/12122 [==============================] - 1s 103us/step - loss: 7.1122e-05 - val_loss: 1.1763e-04\n",
      "Epoch 68/100\n",
      "12122/12122 [==============================] - 1s 105us/step - loss: 7.2239e-05 - val_loss: 1.3152e-04\n",
      "Epoch 69/100\n",
      "12122/12122 [==============================] - 2s 126us/step - loss: 7.1352e-05 - val_loss: 1.2002e-04\n",
      "Epoch 70/100\n",
      "12122/12122 [==============================] - 2s 125us/step - loss: 7.2297e-05 - val_loss: 1.1893e-04\n",
      "Epoch 71/100\n",
      "12122/12122 [==============================] - 1s 101us/step - loss: 7.1712e-05 - val_loss: 1.2173e-04\n",
      "Epoch 72/100\n",
      "12122/12122 [==============================] - 1s 103us/step - loss: 7.2016e-05 - val_loss: 1.1978e-04\n",
      "Epoch 73/100\n",
      "12122/12122 [==============================] - 1s 104us/step - loss: 7.1510e-05 - val_loss: 1.2365e-04\n",
      "Epoch 74/100\n",
      "12122/12122 [==============================] - 1s 106us/step - loss: 7.3094e-05 - val_loss: 1.1703e-04\n",
      "Epoch 75/100\n",
      "12122/12122 [==============================] - 1s 106us/step - loss: 7.1068e-05 - val_loss: 1.1659e-04\n",
      "Epoch 76/100\n",
      "12122/12122 [==============================] - 1s 109us/step - loss: 7.1669e-05 - val_loss: 1.2284e-04\n",
      "Epoch 77/100\n",
      "12122/12122 [==============================] - 2s 138us/step - loss: 7.2052e-05 - val_loss: 1.2649e-04\n",
      "Epoch 78/100\n",
      "12122/12122 [==============================] - 1s 108us/step - loss: 7.1282e-05 - val_loss: 1.1876e-04\n",
      "Epoch 79/100\n",
      "12122/12122 [==============================] - 1s 100us/step - loss: 7.1446e-05 - val_loss: 1.1612e-04\n",
      "Epoch 80/100\n",
      "12122/12122 [==============================] - 1s 118us/step - loss: 7.2101e-05 - val_loss: 1.1637e-04\n",
      "Epoch 81/100\n",
      "12122/12122 [==============================] - 1s 117us/step - loss: 7.1690e-05 - val_loss: 1.1680e-04\n",
      "Epoch 82/100\n",
      "12122/12122 [==============================] - 1s 108us/step - loss: 7.0796e-05 - val_loss: 1.1811e-04\n",
      "Epoch 83/100\n",
      "12122/12122 [==============================] - 1s 112us/step - loss: 7.1759e-05 - val_loss: 1.2312e-04\n",
      "Epoch 84/100\n",
      "12122/12122 [==============================] - 1s 123us/step - loss: 7.1952e-05 - val_loss: 1.2401e-04\n",
      "Epoch 85/100\n",
      "12122/12122 [==============================] - 1s 105us/step - loss: 7.0702e-05 - val_loss: 1.2311e-04\n",
      "Epoch 86/100\n",
      "12122/12122 [==============================] - 1s 104us/step - loss: 7.1865e-05 - val_loss: 1.2026e-04\n",
      "Epoch 87/100\n",
      "12122/12122 [==============================] - 1s 108us/step - loss: 7.2111e-05 - val_loss: 1.3147e-04\n",
      "Epoch 88/100\n",
      "12122/12122 [==============================] - 1s 118us/step - loss: 7.1403e-05 - val_loss: 1.2291e-04\n",
      "Epoch 89/100\n",
      "12122/12122 [==============================] - 1s 118us/step - loss: 7.1860e-05 - val_loss: 1.2179e-04\n",
      "Epoch 90/100\n",
      "12122/12122 [==============================] - 1s 114us/step - loss: 7.2456e-05 - val_loss: 1.2665e-04\n",
      "Epoch 91/100\n",
      "12122/12122 [==============================] - 1s 122us/step - loss: 7.1440e-05 - val_loss: 1.2382e-04\n",
      "Epoch 92/100\n",
      "12122/12122 [==============================] - 1s 113us/step - loss: 7.2284e-05 - val_loss: 1.1792e-04\n",
      "Epoch 93/100\n",
      "12122/12122 [==============================] - 1s 105us/step - loss: 7.1131e-05 - val_loss: 1.2514e-04\n",
      "Epoch 94/100\n",
      "12122/12122 [==============================] - 1s 112us/step - loss: 7.1892e-05 - val_loss: 1.1800e-04\n",
      "Epoch 95/100\n",
      "12122/12122 [==============================] - 2s 131us/step - loss: 7.1598e-05 - val_loss: 1.1660e-04\n",
      "Epoch 96/100\n",
      "12122/12122 [==============================] - 1s 121us/step - loss: 7.0845e-05 - val_loss: 1.2104e-04\n",
      "Epoch 97/100\n",
      "12122/12122 [==============================] - 1s 121us/step - loss: 7.1581e-05 - val_loss: 1.2741e-04\n",
      "Epoch 98/100\n",
      "12122/12122 [==============================] - 1s 121us/step - loss: 7.1751e-05 - val_loss: 1.2263e-04\n",
      "Epoch 99/100\n",
      "12122/12122 [==============================] - 2s 132us/step - loss: 7.1174e-05 - val_loss: 1.2368e-04loss: 7.5399\n",
      "Epoch 100/100\n",
      "12122/12122 [==============================] - 1s 108us/step - loss: 7.0843e-05 - val_loss: 1.3102e-04\n"
     ]
    }
   ],
   "source": [
    "history=model.fit(np.array(X_train),np.array(X_train),\n",
    "                  batch_size=BATCH_SIZE, \n",
    "                  epochs=NUM_EPOCHS,\n",
    "                  validation_split=0.05,\n",
    "                  verbose = 1)"
   ]
  },
  {
   "cell_type": "code",
   "execution_count": 22,
   "metadata": {},
   "outputs": [
    {
     "data": {
      "image/png": "[encoded data removed]",
      "text/plain": [
       "<Figure size 432x288 with 1 Axes>"
      ]
     },
     "metadata": {
      "needs_background": "light"
     },
     "output_type": "display_data"
    }
   ],
   "source": [
    "plt.plot(history.history['loss'],\n",
    "         'b',\n",
    "         label='Training loss')\n",
    "plt.plot(history.history['val_loss'],\n",
    "         'r',\n",
    "         label='Validation loss')\n",
    "plt.legend(loc='upper right')\n",
    "plt.xlabel('Epochs')\n",
    "plt.ylabel('Loss, [mse]')\n",
    "plt.ylim([0,.0002])\n",
    "plt.show()"
   ]
  },
  {
   "cell_type": "code",
   "execution_count": 21,
   "metadata": {},
   "outputs": [
    {
     "data": {
      "text/plain": [
       "(0.0, 0.04)"
      ]
     },
     "execution_count": 21,
     "metadata": {},
     "output_type": "execute_result"
    },
    {
     "data": {
      "image/png": "[encoded data removed]",
      "text/plain": [
       "<Figure size 432x288 with 1 Axes>"
      ]
     },
     "metadata": {
      "needs_background": "light"
     },
     "output_type": "display_data"
    }
   ],
   "source": [
    "X_pred = model.predict(np.array(X_train))\n",
    "X_pred = pd.DataFrame(X_pred, \n",
    "                      columns=X_train.columns)\n",
    "X_pred.index = X_train.index\n",
    "\n",
    "scored = pd.DataFrame(index=X_train.index)\n",
    "scored['Loss_mae'] = np.mean(np.abs(X_pred-X_train), axis = 1)\n",
    "plt.figure()\n",
    "sns.distplot(scored['Loss_mae'],\n",
    "             bins = 100, \n",
    "             kde= True,\n",
    "            color = 'blue');\n",
    "plt.xlim([0.0,.04])"
   ]
  },
  {
   "cell_type": "code",
   "execution_count": 23,
   "metadata": {},
   "outputs": [
    {
     "data": {
      "text/html": [
       "<div>\n",
       "<style scoped>\n",
       "    .dataframe tbody tr th:only-of-type {\n",
       "        vertical-align: middle;\n",
       "    }\n",
       "\n",
       "    .dataframe tbody tr th {\n",
       "        vertical-align: top;\n",
       "    }\n",
       "\n",
       "    .dataframe thead th {\n",
       "        text-align: right;\n",
       "    }\n",
       "</style>\n",
       "<table border=\"1\" class=\"dataframe\">\n",
       "  <thead>\n",
       "    <tr style=\"text-align: right;\">\n",
       "      <th></th>\n",
       "      <th>Loss_mae</th>\n",
       "      <th>Threshold</th>\n",
       "      <th>Anomaly</th>\n",
       "    </tr>\n",
       "  </thead>\n",
       "  <tbody>\n",
       "    <tr>\n",
       "      <th>2015-02-26 21:52:00</th>\n",
       "      <td>0.004491</td>\n",
       "      <td>0.02</td>\n",
       "      <td>False</td>\n",
       "    </tr>\n",
       "    <tr>\n",
       "      <th>2015-02-26 22:17:00</th>\n",
       "      <td>0.001331</td>\n",
       "      <td>0.02</td>\n",
       "      <td>False</td>\n",
       "    </tr>\n",
       "    <tr>\n",
       "      <th>2015-02-26 22:32:00</th>\n",
       "      <td>0.003010</td>\n",
       "      <td>0.02</td>\n",
       "      <td>False</td>\n",
       "    </tr>\n",
       "    <tr>\n",
       "      <th>2015-02-26 22:37:00</th>\n",
       "      <td>0.000452</td>\n",
       "      <td>0.02</td>\n",
       "      <td>False</td>\n",
       "    </tr>\n",
       "    <tr>\n",
       "      <th>2015-02-26 22:52:00</th>\n",
       "      <td>0.003078</td>\n",
       "      <td>0.02</td>\n",
       "      <td>False</td>\n",
       "    </tr>\n",
       "  </tbody>\n",
       "</table>\n",
       "</div>"
      ],
      "text/plain": [
       "                     Loss_mae  Threshold  Anomaly\n",
       "2015-02-26 21:52:00  0.004491       0.02    False\n",
       "2015-02-26 22:17:00  0.001331       0.02    False\n",
       "2015-02-26 22:32:00  0.003010       0.02    False\n",
       "2015-02-26 22:37:00  0.000452       0.02    False\n",
       "2015-02-26 22:52:00  0.003078       0.02    False"
      ]
     },
     "execution_count": 23,
     "metadata": {},
     "output_type": "execute_result"
    }
   ],
   "source": [
    "X_pred = model.predict(np.array(X_test))\n",
    "X_pred = pd.DataFrame(X_pred, \n",
    "                      columns=X_test.columns)\n",
    "X_pred.index = X_test.index\n",
    "\n",
    "scored = pd.DataFrame(index=X_test.index)\n",
    "scored['Loss_mae'] = np.mean(np.abs(X_pred-X_test), axis = 1)\n",
    "scored['Threshold'] = 0.02\n",
    "scored['Anomaly'] = scored['Loss_mae'] > scored['Threshold']\n",
    "scored.head()"
   ]
  },
  {
   "cell_type": "code",
   "execution_count": 24,
   "metadata": {},
   "outputs": [],
   "source": [
    "X_pred_train = model.predict(np.array(X_train))\n",
    "X_pred_train = pd.DataFrame(X_pred_train, \n",
    "                      columns=X_train.columns)\n",
    "X_pred_train.index = X_train.index\n",
    "\n",
    "scored_train = pd.DataFrame(index=X_train.index)\n",
    "scored_train['Loss_mae'] = np.mean(np.abs(X_pred_train-X_train), axis = 1)\n",
    "scored_train['Threshold'] = 0.02\n",
    "scored_train['Anomaly'] = scored_train['Loss_mae'] > scored_train['Threshold']\n",
    "scored = pd.concat([scored_train, scored])"
   ]
  },
  {
   "cell_type": "code",
   "execution_count": 25,
   "metadata": {},
   "outputs": [
    {
     "data": {
      "text/plain": [
       "<matplotlib.axes._subplots.AxesSubplot at 0x1a315a4518>"
      ]
     },
     "execution_count": 25,
     "metadata": {},
     "output_type": "execute_result"
    },
    {
     "data": {
      "image/png": "[encoded data removed]",
      "text/plain": [
       "<Figure size 720x432 with 1 Axes>"
      ]
     },
     "metadata": {
      "needs_background": "light"
     },
     "output_type": "display_data"
    }
   ],
   "source": [
    "scored.plot(logy=True, figsize = (10,6), ylim = [1e-3,1e1], color = ['blue','red'])"
   ]
  },
  {
   "cell_type": "code",
   "execution_count": 123,
   "metadata": {},
   "outputs": [],
   "source": [
    "scored.to_csv('/Users/Jeremyney/downloads/scored.csv')"
   ]
  },
  {
   "cell_type": "code",
   "execution_count": null,
   "metadata": {},
   "outputs": [],
   "source": []
  }
 ],
 "metadata": {
  "kernelspec": {
   "display_name": "Python 3",
   "language": "python",
   "name": "python3"
  },
  "language_info": {
   "codemirror_mode": {
    "name": "ipython",
    "version": 3
   },
   "file_extension": ".py",
   "mimetype": "text/x-python",
   "name": "python",
   "nbconvert_exporter": "python",
   "pygments_lexer": "ipython3",
   "version": "3.7.4"
  }
 },
 "nbformat": 4,
 "nbformat_minor": 4
}
